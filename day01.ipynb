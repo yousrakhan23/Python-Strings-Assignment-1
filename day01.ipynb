{
  "nbformat": 4,
  "nbformat_minor": 0,
  "metadata": {
    "colab": {
      "provenance": [],
      "gpuType": "T4",
      "authorship_tag": "ABX9TyM+8+eSVgwOd/GvxCOYK6fu",
      "include_colab_link": true
    },
    "kernelspec": {
      "name": "python3",
      "display_name": "Python 3"
    },
    "language_info": {
      "name": "python"
    },
    "accelerator": "GPU"
  },
  "cells": [
    {
      "cell_type": "markdown",
      "metadata": {
        "id": "view-in-github",
        "colab_type": "text"
      },
      "source": [
        "<a href=\"https://colab.research.google.com/github/yousrakhan23/Python-Strings-Assignment-1/blob/master/day01.ipynb\" target=\"_parent\"><img src=\"https://colab.research.google.com/assets/colab-badge.svg\" alt=\"Open In Colab\"/></a>"
      ]
    },
    {
      "cell_type": "code",
      "execution_count": null,
      "metadata": {
        "id": "g1c3oRbMzQZd",
        "colab": {
          "base_uri": "https://localhost:8080/"
        },
        "outputId": "81465ff8-e834-4c81-ccee-a4e31f96d0da"
      },
      "outputs": [
        {
          "output_type": "stream",
          "name": "stdout",
          "text": [
            "hello yousra\n"
          ]
        }
      ],
      "source": [
        "print(\"hello yousra\")"
      ]
    },
    {
      "cell_type": "markdown",
      "source": [],
      "metadata": {
        "id": "5cYVi5NmzfAJ"
      }
    },
    {
      "cell_type": "code",
      "source": [
        "print(\"Quarter 3 beginning\")"
      ],
      "metadata": {
        "id": "kvgNafokzdlk",
        "colab": {
          "base_uri": "https://localhost:8080/"
        },
        "outputId": "1982d0aa-9bd0-4b3f-dbaa-6d3b260e152b"
      },
      "execution_count": null,
      "outputs": [
        {
          "output_type": "stream",
          "name": "stdout",
          "text": [
            "Quarter 3 beginning\n"
          ]
        }
      ]
    },
    {
      "cell_type": "markdown",
      "source": [],
      "metadata": {
        "id": "ChPMYuDp2tDG"
      }
    },
    {
      "cell_type": "markdown",
      "source": [
        "VARIABLES:\n"
      ],
      "metadata": {
        "id": "prGg5eoE6LeU"
      }
    },
    {
      "cell_type": "code",
      "source": [
        "name = \"yousra khan\"\n",
        "print(name)"
      ],
      "metadata": {
        "colab": {
          "base_uri": "https://localhost:8080/"
        },
        "id": "JQ-zebLx6YeU",
        "outputId": "e8c57340-8dd4-4f73-9a0f-38c051d0aede"
      },
      "execution_count": null,
      "outputs": [
        {
          "output_type": "stream",
          "name": "stdout",
          "text": [
            "yousra khan\n"
          ]
        }
      ]
    },
    {
      "cell_type": "code",
      "source": [],
      "metadata": {
        "id": "ngpyAjXy-nfP"
      },
      "execution_count": null,
      "outputs": []
    },
    {
      "cell_type": "code",
      "source": [
        "name = \"Hassan Khan\"\n",
        "age = 24\n",
        "hobbies = [\"badminton\",\"football\"]\n",
        "print(name)\n",
        "print(age)\n",
        "print(hobbies)"
      ],
      "metadata": {
        "colab": {
          "base_uri": "https://localhost:8080/"
        },
        "id": "9AJZZPlk-DRD",
        "outputId": "0a4107e2-896a-480d-a0b4-e6e0bf97ec6e"
      },
      "execution_count": null,
      "outputs": [
        {
          "output_type": "stream",
          "name": "stdout",
          "text": [
            "Hassan Khan\n",
            "24\n",
            "['badminton', 'football']\n"
          ]
        }
      ]
    },
    {
      "cell_type": "markdown",
      "source": [
        "VARIABLES AND ITS DATA TYPES"
      ],
      "metadata": {
        "id": "XbJLwkkq-9vd"
      }
    },
    {
      "cell_type": "code",
      "source": [
        "name: str = \"Hassan Khan\"\n",
        "age: int = 24\n",
        "hobbies: list[str] = [\"badminton\",\"football\"]\n",
        "name: str = \"Hassan Khan\"\n",
        "age: int = 24\n",
        "hobbies: list[str] = [\"badminton\",\"football\"]\n",
        "num: float = 23.26\n",
        "tap: tuple = (\"yousra\" , \"hassan\")\n",
        "obj:dict = {\"name\": \"yousra khan\" , \"age\":23}\n",
        "print(name)\n",
        "print(age)\n",
        "print(hobbies)\n",
        "print(num)\n",
        "print(tap)\n",
        "print(obj)\n",
        "print(hobbies)\n",
        "print(num)\n",
        "print(tap)\n",
        "print(obj)"
      ],
      "metadata": {
        "id": "I62XyZXo-uf3",
        "colab": {
          "base_uri": "https://localhost:8080/"
        },
        "outputId": "9c00f844-50b4-40c9-920e-2a64d23b4347"
      },
      "execution_count": null,
      "outputs": [
        {
          "output_type": "stream",
          "name": "stdout",
          "text": [
            "Hassan Khan\n",
            "24\n",
            "['badminton', 'football']\n",
            "23.26\n",
            "('yousra', 'hassan')\n",
            "{'name': 'yousra khan', 'age': 23}\n",
            "['badminton', 'football']\n",
            "23.26\n",
            "('yousra', 'hassan')\n",
            "{'name': 'yousra khan', 'age': 23}\n"
          ]
        }
      ]
    },
    {
      "cell_type": "markdown",
      "source": [
        "HOW TO DEFINE ID?\n"
      ],
      "metadata": {
        "id": "VczLfW9_v7mm"
      }
    },
    {
      "cell_type": "code",
      "source": [
        "name: (\"panda\")\n",
        "print(id(name))"
      ],
      "metadata": {
        "colab": {
          "base_uri": "https://localhost:8080/"
        },
        "id": "aUwGUBAJw4FO",
        "outputId": "b85d957e-f3cd-49bf-ed29-5dcbeaeb5a3f"
      },
      "execution_count": null,
      "outputs": [
        {
          "output_type": "stream",
          "name": "stdout",
          "text": [
            "138502815318256\n"
          ]
        }
      ]
    },
    {
      "cell_type": "markdown",
      "source": [
        "STRING METHODS\n"
      ],
      "metadata": {
        "id": "YhjQ2CBZxt8n"
      }
    },
    {
      "cell_type": "code",
      "source": [
        "name1: str = \"first pay first umrah INN SHA ALLAH\"\n",
        "print(\"original state\" , name1) #original state\n",
        "print(\"uppercase\" , name1.upper()) #uppercase\n",
        "print(\"lowercase\" , name1.lower()) #lowecase\n",
        "print(\"title\" , name1.title()) #titlecase\n",
        "print(\"capitalize\" , name1.capitalize()) #capitalize"
      ],
      "metadata": {
        "colab": {
          "base_uri": "https://localhost:8080/"
        },
        "id": "LBnjyzDYzLk_",
        "outputId": "cc325fd6-c114-4a49-c9b2-373e3fea874c"
      },
      "execution_count": null,
      "outputs": [
        {
          "output_type": "stream",
          "name": "stdout",
          "text": [
            "original state first pay first umrah INN SHA ALLAH\n",
            "uppercase FIRST PAY FIRST UMRAH INN SHA ALLAH\n",
            "lowercase first pay first umrah inn sha allah\n",
            "title First Pay First Umrah Inn Sha Allah\n",
            "capitalize First pay first umrah inn sha allah\n"
          ]
        }
      ]
    },
    {
      "cell_type": "markdown",
      "source": [
        "CONCATENATION STRING"
      ],
      "metadata": {
        "id": "-VXiBjLu1QGO"
      }
    },
    {
      "cell_type": "code",
      "source": [
        "first_name:str = \"electric\"\n",
        "last_name:str = \"blower\"\n",
        "full_name:str = f\"{first_name} {last_name}\" #like we use ` for concatenation so we use f\"\" for concatenation in python.\n",
        "print(full_name)"
      ],
      "metadata": {
        "id": "OoqeQwBu1ZK_",
        "colab": {
          "base_uri": "https://localhost:8080/"
        },
        "outputId": "89fefac2-97ce-4a9f-ae98-d4ff0c9aa30b"
      },
      "execution_count": null,
      "outputs": [
        {
          "output_type": "stream",
          "name": "stdout",
          "text": [
            "electric blower\n"
          ]
        }
      ]
    },
    {
      "cell_type": "markdown",
      "source": [
        "TAB SPACE AND NEW LINE"
      ],
      "metadata": {
        "id": "huESb4q2WBnS"
      }
    },
    {
      "cell_type": "code",
      "source": [
        "print(\"salam how are you\") #normal\n",
        "print(\"salam \\n How are you?\") #new line\n",
        "print(\"salam \\t what are you doing?\") #tab space"
      ],
      "metadata": {
        "colab": {
          "base_uri": "https://localhost:8080/"
        },
        "id": "tB2IVVTcWJTa",
        "outputId": "50164b7d-281f-47b0-b507-309fb5633192"
      },
      "execution_count": null,
      "outputs": [
        {
          "output_type": "stream",
          "name": "stdout",
          "text": [
            "salam how are you\n",
            "salam \n",
            " How are you?\n",
            "salam \t what are you doing?\n"
          ]
        }
      ]
    },
    {
      "cell_type": "markdown",
      "source": [
        "SINGLE QUOTE"
      ],
      "metadata": {
        "id": "YNxqg1mNZ81g"
      }
    },
    {
      "cell_type": "code",
      "source": [
        "a = 'Fullstack' + \" \" + 'Dictionary'\n",
        "print(a)"
      ],
      "metadata": {
        "colab": {
          "base_uri": "https://localhost:8080/"
        },
        "id": "7DJWHLQxaF1o",
        "outputId": "4a8c6287-c5c5-4d34-94ae-4d995d42d77c"
      },
      "execution_count": null,
      "outputs": [
        {
          "output_type": "stream",
          "name": "stdout",
          "text": [
            "Fullstack Dictionary\n"
          ]
        }
      ]
    },
    {
      "cell_type": "markdown",
      "source": [
        "HOW TO TACKLE APOSTROPHE S ???"
      ],
      "metadata": {
        "id": "RmqR0kSbbkXI"
      }
    },
    {
      "cell_type": "code",
      "source": [
        "#a ='my husband's name is shah' #but it gives error\n",
        "a = 'my husband\\'s name is shah'\n",
        "print(a)"
      ],
      "metadata": {
        "id": "niM2_NQEb6fP",
        "colab": {
          "base_uri": "https://localhost:8080/"
        },
        "outputId": "92f06112-28e6-4dc8-8735-3212214b5781"
      },
      "execution_count": null,
      "outputs": [
        {
          "output_type": "stream",
          "name": "stdout",
          "text": [
            "my husband's name is shah\n"
          ]
        }
      ]
    },
    {
      "cell_type": "markdown",
      "source": [
        "NEXT LINE"
      ],
      "metadata": {
        "id": "B-_tJqawfiPV"
      }
    },
    {
      "cell_type": "code",
      "source": [
        "#a = 'hello how are you,\n",
        "#I am fine' it gives error so we use \\\n",
        "\n",
        "a = 'hello how are you, \\\n",
        "I am fine'\n",
        "print(a)"
      ],
      "metadata": {
        "colab": {
          "base_uri": "https://localhost:8080/"
        },
        "id": "OLKuWVrRftjN",
        "outputId": "3f847872-c26f-4ac0-8e3a-e2cc64ba86d7"
      },
      "execution_count": null,
      "outputs": [
        {
          "output_type": "stream",
          "name": "stdout",
          "text": [
            "hello how are you, I am fine\n"
          ]
        }
      ]
    },
    {
      "cell_type": "markdown",
      "source": [
        "DOUBLE QUOTES"
      ],
      "metadata": {
        "id": "9fR8n2Zqgt1l"
      }
    },
    {
      "cell_type": "code",
      "source": [
        "a = \"yousra khan\"\n",
        "print(a)"
      ],
      "metadata": {
        "colab": {
          "base_uri": "https://localhost:8080/"
        },
        "id": "SftJhc7Tg2k0",
        "outputId": "12e30fa1-f387-4ced-d444-40168dfa7127"
      },
      "execution_count": null,
      "outputs": [
        {
          "output_type": "stream",
          "name": "stdout",
          "text": [
            "yousra khan\n"
          ]
        }
      ]
    },
    {
      "cell_type": "code",
      "source": [
        "a = \"yousra khan\" + \" \" + \"wife of\" + \" \" + \"shah\"\n",
        "print(a)"
      ],
      "metadata": {
        "colab": {
          "base_uri": "https://localhost:8080/"
        },
        "id": "EbkepP5rhOn0",
        "outputId": "00ef043c-8d9c-44e4-8ece-8ce2e73ceaea"
      },
      "execution_count": null,
      "outputs": [
        {
          "output_type": "stream",
          "name": "stdout",
          "text": [
            "yousra khan wife of shah\n"
          ]
        }
      ]
    },
    {
      "cell_type": "markdown",
      "source": [
        "WE USE APOSTROPHE S IN DOUBLE QUOTES"
      ],
      "metadata": {
        "id": "PjGVB6H4hshN"
      }
    },
    {
      "cell_type": "code",
      "source": [
        "a = \"hello from canada which city you are belong's to?\"\n",
        "print(a)"
      ],
      "metadata": {
        "colab": {
          "base_uri": "https://localhost:8080/"
        },
        "id": "8pBvUSfBh0s8",
        "outputId": "c86add45-72c4-4e62-ad04-084aa0a80b89"
      },
      "execution_count": null,
      "outputs": [
        {
          "output_type": "stream",
          "name": "stdout",
          "text": [
            "hello from canada which city you are belong's to?\n"
          ]
        }
      ]
    },
    {
      "cell_type": "markdown",
      "source": [
        "THREE DOUBLE QUOTES"
      ],
      "metadata": {
        "id": "EbbeUfHtiQSs"
      }
    },
    {
      "cell_type": "code",
      "source": [
        "a = ''' salam from saudia\n",
        "salam from qatar\n",
        "salam from iraq'''\n",
        "print(a)"
      ],
      "metadata": {
        "colab": {
          "base_uri": "https://localhost:8080/"
        },
        "id": "c86WPZwqibGN",
        "outputId": "e2970269-6370-4a3c-b279-aec0d9ab8a40"
      },
      "execution_count": null,
      "outputs": [
        {
          "output_type": "stream",
          "name": "stdout",
          "text": [
            " salam from saudia\n",
            "salam from qatar\n",
            "salam from iraq\n"
          ]
        }
      ]
    },
    {
      "cell_type": "markdown",
      "source": [
        "f-string"
      ],
      "metadata": {
        "id": "BEb0TzIzjBa9"
      }
    },
    {
      "cell_type": "code",
      "source": [
        "name = \"cristiano\"\n",
        "edu = 12\n",
        "hobby = \"football\"\n",
        "biodata = f\"my name is {name}, my age is {30+5}, my hobby is {hobby}\"\n",
        "print(biodata)"
      ],
      "metadata": {
        "colab": {
          "base_uri": "https://localhost:8080/"
        },
        "id": "GwPgAqJQjHGt",
        "outputId": "be499e54-4243-421d-ee83-0cb80cce02e1"
      },
      "execution_count": null,
      "outputs": [
        {
          "output_type": "stream",
          "name": "stdout",
          "text": [
            "my name is cristiano, my age is 35, my hobby is football\n"
          ]
        }
      ]
    },
    {
      "cell_type": "markdown",
      "source": [
        "f-string CONCATENATION"
      ],
      "metadata": {
        "id": "7XhnSXw3kFQo"
      }
    },
    {
      "cell_type": "code",
      "source": [
        "f_name = \"learn\"\n",
        "l_name = \"python\"\n",
        "print(f\"{f_name} {l_name}\")"
      ],
      "metadata": {
        "colab": {
          "base_uri": "https://localhost:8080/"
        },
        "id": "ppIoaH2gkJiV",
        "outputId": "c85a0b45-0626-42a9-84a0-fef44bc6ccda"
      },
      "execution_count": null,
      "outputs": [
        {
          "output_type": "stream",
          "name": "stdout",
          "text": [
            "learn python\n"
          ]
        }
      ]
    },
    {
      "cell_type": "code",
      "source": [
        "words = \"my name is {}, my passion is {}.\".format(\"imran khan\", \"cricket\")\n",
        "print(words)"
      ],
      "metadata": {
        "colab": {
          "base_uri": "https://localhost:8080/"
        },
        "id": "C7xUAT_5kixO",
        "outputId": "4d0eaedf-cc0f-4f9b-d41c-8e86dc998027"
      },
      "execution_count": null,
      "outputs": [
        {
          "output_type": "stream",
          "name": "stdout",
          "text": [
            "my name is imran khan, my passion is cricket.\n"
          ]
        }
      ]
    }
  ]
}